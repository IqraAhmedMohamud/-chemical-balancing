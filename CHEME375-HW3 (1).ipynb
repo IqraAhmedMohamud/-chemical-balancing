{
 "cells": [
  {
   "cell_type": "code",
   "execution_count": 2,
   "id": "d67d5818-6863-4f85-a96e-c9dfed03f576",
   "metadata": {},
   "outputs": [],
   "source": [
    "import numpy as np\n",
    "import numpy.linalg as linalg\n",
    "#this package is necessary to run the matrix and find the solution of the coefficients in the chemical reaction"
   ]
  },
  {
   "cell_type": "code",
   "execution_count": null,
   "id": "8671f114-176c-4284-bed8-612687c2ed5c",
   "metadata": {},
   "outputs": [],
   "source": [
    "#Three equations: 2 Incomplete Combustions and 1 complete combustions"
   ]
  },
  {
   "cell_type": "markdown",
   "id": "801b7802-65b9-4f13-af2f-04a1c789f58b",
   "metadata": {},
   "source": [
    "$$ x_1 NH_3 + x_2 O_2 \\rightarrow x_3 NO + x_4 H_2O$$"
   ]
  },
  {
   "cell_type": "markdown",
   "id": "6ded0916-0cd9-4b06-b5d3-faa1ce388d10",
   "metadata": {},
   "source": [
    "$$ x_1 NH_3 + x_2 O_2 \\rightarrow x_3 N_2 + x_4 H_2O$$"
   ]
  },
  {
   "cell_type": "markdown",
   "id": "88679e5b-9383-4f2e-ba98-c4f372a9aa6f",
   "metadata": {},
   "source": [
    "$$ x_1 NH_3 + x_2 O_2 \\rightarrow x_3 NO_2 + x_4 H_2O$$"
   ]
  },
  {
   "cell_type": "code",
   "execution_count": 23,
   "id": "c9191594-57ab-450c-894a-3663e7709e2e",
   "metadata": {},
   "outputs": [],
   "source": [
    "#starting with the one below\n",
    "#this chemical equation is one of the two incomplete combustion reaction which produced nitrigen monoxide"
   ]
  },
  {
   "cell_type": "markdown",
   "id": "92dc762b-bf74-4321-a3a2-114ae762f449",
   "metadata": {},
   "source": [
    "$$ x_1 NH_3 + x_2 O_2 \\rightarrow x_3 NO + x_4 H_2O$$"
   ]
  },
  {
   "cell_type": "markdown",
   "id": "27b4acda-cedb-4227-8210-d9c40e37b2e5",
   "metadata": {},
   "source": [
    "$$ Nitrogen: 1\\bullet x_1+0 \\bullet x_2 -1 \\bullet x_3 -0 \\bullet x_4 =0$$\n",
    "\n",
    "$$Hydrogen: 3\\bullet x_1+0 \\bullet x_2-0 \\bullet x_3-2 \\bullet x_4 =0$$\n",
    "\n",
    "$$ Oxygen: 0\\bullet x_1+2 \\bullet x_2-1 \\bullet x_3-1 \\bullet x_4 =0 $$"
   ]
  },
  {
   "cell_type": "code",
   "execution_count": 24,
   "id": "b7a7574d-c3e5-4bc0-8735-a05a11b8b0e7",
   "metadata": {},
   "outputs": [
    {
     "name": "stdout",
     "output_type": "stream",
     "text": [
      "[[ 1  0 -1  0]\n",
      " [ 3  0  0 -2]\n",
      " [ 0  2 -1 -1]\n",
      " [ 1  0  0  0]]\n"
     ]
    }
   ],
   "source": [
    "#all numbers correspond to the number of atoms are in each side of the equation, the last row is the basis\n",
    "matrix_A = np.array([[1,0,-1,0],\n",
    "                     [3,0,0,-2],\n",
    "                     [0,2,-1,-1],\n",
    "                     [1,0,0,0]])\n",
    "\n",
    "# i am printing the matrix to make sure that it looks good before proceeding\n",
    "print(matrix_A)\n"
   ]
  },
  {
   "cell_type": "code",
   "execution_count": null,
   "id": "5c58e20f-d8f9-498c-9d84-4439be569a25",
   "metadata": {},
   "outputs": [],
   "source": []
  },
  {
   "cell_type": "code",
   "execution_count": 25,
   "id": "575c0b42-17fd-4a8d-87bf-222c07a79d0c",
   "metadata": {},
   "outputs": [],
   "source": [
    "vector_b= np.array([0,0,0,1])\n",
    "#the b maxtrix will be very important factor"
   ]
  },
  {
   "cell_type": "code",
   "execution_count": 18,
   "id": "8bf11708-c5c5-4d41-8f76-c33b8b7229f5",
   "metadata": {},
   "outputs": [],
   "source": [
    "new_vector_b = vector_b.reshape(-1,1)\n",
    "#i am reshaping so it will have the same dimesion as matrix a above"
   ]
  },
  {
   "cell_type": "code",
   "execution_count": 19,
   "id": "9da40307-92da-436c-9024-1936ae63fcd6",
   "metadata": {},
   "outputs": [
    {
     "name": "stdout",
     "output_type": "stream",
     "text": [
      "original vector b:\n",
      "\n",
      "[0 0 0 1]\n",
      "\n",
      "new vector b:\n",
      "\n",
      "[[0]\n",
      " [0]\n",
      " [0]\n",
      " [1]]\n"
     ]
    }
   ],
   "source": [
    "print('original vector b:\\n')\n",
    "print(vector_b)\n",
    "\n",
    "print('\\nnew vector b:\\n')\n",
    "print(new_vector_b)\n",
    "\n",
    "#printing is very important because I want to know what the output looks "
   ]
  },
  {
   "cell_type": "code",
   "execution_count": 26,
   "id": "74e9a6df-f54c-41dd-8060-31ac51302fc3",
   "metadata": {},
   "outputs": [
    {
     "name": "stdout",
     "output_type": "stream",
     "text": [
      "[[ 0.    0.    0.    1.  ]\n",
      " [-0.5  -0.25  0.5   1.25]\n",
      " [-1.   -0.   -0.    1.  ]\n",
      " [ 0.   -0.5   0.    1.5 ]]\n"
     ]
    }
   ],
   "source": [
    "inverse_A = linalg.inv(matrix_A)\n",
    "print(inverse_A)\n",
    "# this will take the inverse of A"
   ]
  },
  {
   "cell_type": "code",
   "execution_count": 28,
   "id": "8239d5a1-7cce-4cf2-8ab2-bfbfe6443a76",
   "metadata": {},
   "outputs": [
    {
     "data": {
      "text/plain": [
       "array([1.  , 1.25, 1.  , 1.5 ])"
      ]
     },
     "execution_count": 28,
     "metadata": {},
     "output_type": "execute_result"
    }
   ],
   "source": [
    "vector_x = np.matmul(inverse_A, vector_b)\n",
    "\n",
    "vector_x\n",
    "#this will multiple both the inverse of a and multiple the b vector"
   ]
  },
  {
   "cell_type": "code",
   "execution_count": 29,
   "id": "d532b9f9-cc07-4235-9b57-77f0fa398628",
   "metadata": {},
   "outputs": [
    {
     "data": {
      "text/plain": [
       "array([[1.  ],\n",
       "       [1.25],\n",
       "       [1.  ],\n",
       "       [1.5 ]])"
      ]
     },
     "execution_count": 29,
     "metadata": {},
     "output_type": "execute_result"
    }
   ],
   "source": [
    "new_vector_x = np.matmul(inverse_A, new_vector_b)\n",
    "\n",
    "new_vector_x\n",
    "#this is the smallest coefficients i received for this chemical reaction, remember if you dont want fractional coefficent you can scale up to have whole number the matrix purpose is to find the smallest coefficent factor not the whole number which is scaler (times 4)"
   ]
  },
  {
   "cell_type": "code",
   "execution_count": 38,
   "id": "b231115b-3046-476f-8cf5-5bce8cb6f558",
   "metadata": {},
   "outputs": [],
   "source": [
    "#new chemical reaction below"
   ]
  },
  {
   "cell_type": "markdown",
   "id": "7c9238f6-4ec2-4423-822c-3a97c2c3d14c",
   "metadata": {},
   "source": [
    "\n",
    "$$ x_1 NH_3 + x_2 O_2 \\rightarrow x_3 N_2 + x_4 H_2O$$\n"
   ]
  },
  {
   "cell_type": "markdown",
   "id": "e960fe0c-866b-42a5-a3be-24186a7695e2",
   "metadata": {},
   "source": [
    "$$ Nitrogen: 1\\bullet x_1+0 \\bullet x_2 -2 \\bullet x_3 -0 \\bullet x_4 =0$$\n",
    "\n",
    "$$Hydrogen: 3\\bullet x_1+0 \\bullet x_2-0 \\bullet x_3-2 \\bullet x_4 =0$$\n",
    "\n",
    "$$ Oxygen: 0\\bullet x_1+2 \\bullet x_2-0 \\bullet x_3-1 \\bullet x_4 =0 $$"
   ]
  },
  {
   "cell_type": "code",
   "execution_count": 30,
   "id": "07c91e83-e766-434d-9dd2-23f8dfa96420",
   "metadata": {},
   "outputs": [
    {
     "name": "stdout",
     "output_type": "stream",
     "text": [
      "[[ 1  0 -2  0]\n",
      " [ 3  0  0 -2]\n",
      " [ 0  2  0 -1]\n",
      " [ 1  0  0  0]]\n"
     ]
    }
   ],
   "source": [
    "matrix_A = np.array([[1,0,-2,0],\n",
    "                     [3,0,0,-2],\n",
    "                     [0,2,-0,-1],\n",
    "                     [1,0,0,0]])\n",
    "\n",
    "print(matrix_A)"
   ]
  },
  {
   "cell_type": "code",
   "execution_count": 32,
   "id": "c2d97705-f445-406b-8840-c4f49734fe06",
   "metadata": {},
   "outputs": [],
   "source": [
    "vector_b= np.array([0,0,0,1])\n"
   ]
  },
  {
   "cell_type": "code",
   "execution_count": 33,
   "id": "105285d2-d4fd-479d-ab67-24613a204c42",
   "metadata": {},
   "outputs": [],
   "source": [
    "new_vector_b = vector_b.reshape(-1,1)"
   ]
  },
  {
   "cell_type": "code",
   "execution_count": 34,
   "id": "fed72fc1-06b6-4d18-b1a9-b1bb87eb3701",
   "metadata": {},
   "outputs": [
    {
     "name": "stdout",
     "output_type": "stream",
     "text": [
      "original vector b:\n",
      "\n",
      "[0 0 0 1]\n",
      "\n",
      "new vector b:\n",
      "\n",
      "[[0]\n",
      " [0]\n",
      " [0]\n",
      " [1]]\n"
     ]
    }
   ],
   "source": [
    "print('original vector b:\\n')\n",
    "print(vector_b)\n",
    "\n",
    "print('\\nnew vector b:\\n')\n",
    "print(new_vector_b)"
   ]
  },
  {
   "cell_type": "code",
   "execution_count": 35,
   "id": "472b7eff-2705-49eb-91c3-f97bfb96cbb8",
   "metadata": {},
   "outputs": [
    {
     "name": "stdout",
     "output_type": "stream",
     "text": [
      "[[ 0.    0.    0.    1.  ]\n",
      " [ 0.   -0.25  0.5   0.75]\n",
      " [-0.5  -0.   -0.    0.5 ]\n",
      " [ 0.   -0.5   0.    1.5 ]]\n"
     ]
    }
   ],
   "source": [
    "inverse_A = linalg.inv(matrix_A)\n",
    "print(inverse_A)"
   ]
  },
  {
   "cell_type": "code",
   "execution_count": 36,
   "id": "fb2c1cb8-3050-4f6a-8038-ad6e834b6539",
   "metadata": {},
   "outputs": [
    {
     "data": {
      "text/plain": [
       "array([1.  , 0.75, 0.5 , 1.5 ])"
      ]
     },
     "execution_count": 36,
     "metadata": {},
     "output_type": "execute_result"
    }
   ],
   "source": [
    "vector_x = np.matmul(inverse_A, vector_b)\n",
    "\n",
    "vector_x"
   ]
  },
  {
   "cell_type": "code",
   "execution_count": 37,
   "id": "61d9afbf-2d17-46f0-8aaf-87e1362a6e7f",
   "metadata": {},
   "outputs": [
    {
     "data": {
      "text/plain": [
       "array([[1.  ],\n",
       "       [0.75],\n",
       "       [0.5 ],\n",
       "       [1.5 ]])"
      ]
     },
     "execution_count": 37,
     "metadata": {},
     "output_type": "execute_result"
    }
   ],
   "source": [
    "new_vector_x = np.matmul(inverse_A, new_vector_b)\n",
    "\n",
    "new_vector_x"
   ]
  },
  {
   "cell_type": "code",
   "execution_count": null,
   "id": "295ce06d-a0d8-431c-be62-3696646f41ba",
   "metadata": {},
   "outputs": [],
   "source": [
    "#new chemical reaction"
   ]
  },
  {
   "cell_type": "markdown",
   "id": "24889cd3-4e34-433e-b4c2-78e548c56e34",
   "metadata": {},
   "source": [
    "$$ x_1 NH_3 + x_2 O_2 \\rightarrow x_3 NO_2 + x_4 H_2O$$"
   ]
  },
  {
   "cell_type": "markdown",
   "id": "ae61536a-0058-413d-bda9-d3689f0243d1",
   "metadata": {},
   "source": [
    "$$ Nitrogen: 1\\bullet x_1+0 \\bullet x_2 -1 \\bullet x_3 -0 \\bullet x_4 =0$$\n",
    "\n",
    "$$Hydrogen: 3\\bullet x_1+0 \\bullet x_2-0 \\bullet x_3-2 \\bullet x_4 =0$$\n",
    "\n",
    "$$ Oxygen: 0\\bullet x_1+2 \\bullet x_2-2 \\bullet x_3-1 \\bullet x_4 =0 $$"
   ]
  },
  {
   "cell_type": "code",
   "execution_count": 41,
   "id": "5463df1a-4f03-4cc9-975a-f1646188e225",
   "metadata": {},
   "outputs": [
    {
     "name": "stdout",
     "output_type": "stream",
     "text": [
      "[[ 1  0 -1  0]\n",
      " [ 3  0  0 -2]\n",
      " [ 0  2 -2 -1]\n",
      " [ 1  0  0  0]]\n"
     ]
    }
   ],
   "source": [
    "matrix_A = np.array([[1,0,-1,0],\n",
    "                     [3,0,0,-2],\n",
    "                     [0,2,-2,-1],\n",
    "                     [1,0,0,0]])\n",
    "\n",
    "print(matrix_A)\n"
   ]
  },
  {
   "cell_type": "code",
   "execution_count": 42,
   "id": "047f05d6-9442-4363-9b4d-888eb302d980",
   "metadata": {},
   "outputs": [],
   "source": [
    "vector_b= np.array([0,0,0,1])"
   ]
  },
  {
   "cell_type": "code",
   "execution_count": 43,
   "id": "10f165aa-fe38-4520-af03-edca55f6b62f",
   "metadata": {},
   "outputs": [],
   "source": [
    "new_vector_b = vector_b.reshape(-1,1)"
   ]
  },
  {
   "cell_type": "code",
   "execution_count": 44,
   "id": "6a902c09-86e6-4981-916d-c4bbe141523c",
   "metadata": {},
   "outputs": [
    {
     "name": "stdout",
     "output_type": "stream",
     "text": [
      "original vector b:\n",
      "\n",
      "[0 0 0 1]\n",
      "\n",
      "new vector b:\n",
      "\n",
      "[[0]\n",
      " [0]\n",
      " [0]\n",
      " [1]]\n"
     ]
    }
   ],
   "source": [
    "print('original vector b:\\n')\n",
    "print(vector_b)\n",
    "\n",
    "print('\\nnew vector b:\\n')\n",
    "print(new_vector_b)"
   ]
  },
  {
   "cell_type": "code",
   "execution_count": 45,
   "id": "f75f1832-1f27-4efd-bd78-bf58dbebf8eb",
   "metadata": {},
   "outputs": [
    {
     "name": "stdout",
     "output_type": "stream",
     "text": [
      "[[ 0.    0.    0.    1.  ]\n",
      " [-1.   -0.25  0.5   1.75]\n",
      " [-1.   -0.   -0.    1.  ]\n",
      " [ 0.   -0.5   0.    1.5 ]]\n"
     ]
    }
   ],
   "source": [
    "inverse_A = linalg.inv(matrix_A)\n",
    "print(inverse_A)"
   ]
  },
  {
   "cell_type": "code",
   "execution_count": 46,
   "id": "c440af42-a37e-4881-98a5-1160a1f10e7c",
   "metadata": {},
   "outputs": [
    {
     "data": {
      "text/plain": [
       "array([1.  , 1.75, 1.  , 1.5 ])"
      ]
     },
     "execution_count": 46,
     "metadata": {},
     "output_type": "execute_result"
    }
   ],
   "source": [
    "vector_x = np.matmul(inverse_A, vector_b)\n",
    "\n",
    "vector_x"
   ]
  },
  {
   "cell_type": "code",
   "execution_count": 47,
   "id": "7f489683-ad3d-4b9f-a606-904e8499f2ef",
   "metadata": {},
   "outputs": [
    {
     "data": {
      "text/plain": [
       "array([[1.  ],\n",
       "       [1.75],\n",
       "       [1.  ],\n",
       "       [1.5 ]])"
      ]
     },
     "execution_count": 47,
     "metadata": {},
     "output_type": "execute_result"
    }
   ],
   "source": [
    "new_vector_x = np.matmul(inverse_A, new_vector_b)\n",
    "\n",
    "new_vector_x"
   ]
  },
  {
   "cell_type": "code",
   "execution_count": null,
   "id": "45adaa20-8d4f-41e5-ad50-f9c71fc4c75f",
   "metadata": {},
   "outputs": [],
   "source": [
    "#all three species combined NO,NO2, and N2"
   ]
  },
  {
   "cell_type": "markdown",
   "id": "8c1e9abe-f3bf-4a6d-839f-4b5d10ec83dd",
   "metadata": {},
   "source": [
    "# Obtain the coefficients in the matrix solution\n",
    "$$ 1NH_3 +  7/4 O_2 \\rightarrow 1 NO_2 + 3/2 H_2O$$ \n",
    "\n",
    "\n",
    "\n",
    "$$ 1NH_3 + 3/4 O_2 \\rightarrow 1/2 N_2 + 3/2 H_2O$$\n",
    "\n",
    "\n",
    "\n",
    "$$ 1NH_3 +  5/4 O_2 \\rightarrow 1 NO + 3/2 H_2O$$\n",
    "\n",
    "\n",
    "\n",
    "# combine  all   of  the   equations \n",
    "\n",
    "$$ 3NH_3 + 15/4 O_2 \\rightarrow 1 NO_2 +1/2 N_2 + 1 NO + 9/2 H_2O $$\n",
    "\n",
    "\n",
    "\n",
    "# divided   by   three \n",
    "\n",
    "\n",
    "\n",
    "$$ 1NH_3 + 5/4 O_2 \\rightarrow 1/3 NO_2 + 1/6 N_2 + 1/3 NO + 3/2 H_2O $$"
   ]
  },
  {
   "cell_type": "code",
   "execution_count": null,
   "id": "6e643915-d2b5-4d57-a87c-cc0001ba91a6",
   "metadata": {},
   "outputs": [],
   "source": []
  }
 ],
 "metadata": {
  "kernelspec": {
   "display_name": "Python 3",
   "language": "python",
   "name": "python3"
  },
  "language_info": {
   "codemirror_mode": {
    "name": "ipython",
    "version": 3
   },
   "file_extension": ".py",
   "mimetype": "text/x-python",
   "name": "python",
   "nbconvert_exporter": "python",
   "pygments_lexer": "ipython3",
   "version": "3.8.8"
  }
 },
 "nbformat": 4,
 "nbformat_minor": 5
}
